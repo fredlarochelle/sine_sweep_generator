{
  "nbformat": 4,
  "nbformat_minor": 0,
  "metadata": {
    "colab": {
      "name": "Sine Sweep Generator.ipynb",
      "provenance": [],
      "authorship_tag": "ABX9TyO/INgLEKQCpK2QpqU/mgAp",
      "include_colab_link": true
    },
    "kernelspec": {
      "name": "python3",
      "display_name": "Python 3"
    },
    "language_info": {
      "name": "python"
    }
  },
  "cells": [
    {
      "cell_type": "markdown",
      "metadata": {
        "id": "view-in-github",
        "colab_type": "text"
      },
      "source": [
        "<a href=\"https://colab.research.google.com/github/fredlarochelle/sine_sweep_generator/blob/main/Sine_Sweep_Generator.ipynb\" target=\"_parent\"><img src=\"https://colab.research.google.com/assets/colab-badge.svg\" alt=\"Open In Colab\"/></a>"
      ]
    },
    {
      "cell_type": "markdown",
      "source": [
        "Simply generate an high quality sine sweep to be used to record impulse responses"
      ],
      "metadata": {
        "id": "MJWTpurQmdF1"
      }
    },
    {
      "cell_type": "code",
      "source": [
        "import librosa\n",
        "from scipy.io import wavfile\n",
        "\n",
        "# parameters\n",
        "minimum_frequency = 20 # in hertz\n",
        "maximum_frequency = 20000 # in hertz\n",
        "sample_rate = 48000 # in hertz\n",
        "duration = 25 # in seconds\n",
        "linear_sweep = True # else exponential sweep\n",
        "\n",
        "# Generating the sweep using Librosa\n",
        "chirp = librosa.chirp(fmin=minimum_frequency, fmax=maximum_frequency, sr=sample_rate, duration=duration, linear=linear_sweep)\n",
        "\n",
        "# Convert from 'float64' to 'float32' -> scipy use the array data type to determine the bit sample and WAV file type, 'float32' creates a 32-bit floating-point WAV file\n",
        "chirp = chirp.astype('float32')\n",
        "\n",
        "# Writing WAV file using scipy\n",
        "wavfile.write(f\"sweep_{'linear' if linear_sweep else 'exponential'}_{minimum_frequency}Hz_to_{maximum_frequency}Hz_{sample_rate/1000}kHz_{duration}s.wav\", 48000, chirp)"
      ],
      "metadata": {
        "id": "JRvpQapchnvx"
      },
      "execution_count": 9,
      "outputs": []
    },
    {
      "cell_type": "code",
      "source": [
        ""
      ],
      "metadata": {
        "id": "On56B48Mol6_"
      },
      "execution_count": null,
      "outputs": []
    }
  ]
}